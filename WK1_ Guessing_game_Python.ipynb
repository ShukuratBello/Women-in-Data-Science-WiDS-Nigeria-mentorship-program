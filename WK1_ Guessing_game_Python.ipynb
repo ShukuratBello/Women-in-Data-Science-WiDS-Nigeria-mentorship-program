{
  "nbformat": 4,
  "nbformat_minor": 0,
  "metadata": {
    "colab": {
      "provenance": []
    },
    "kernelspec": {
      "name": "python3",
      "display_name": "Python 3"
    },
    "language_info": {
      "name": "python"
    }
  },
  "cells": [
    {
      "cell_type": "code",
      "execution_count": 2,
      "metadata": {
        "colab": {
          "base_uri": "https://localhost:8080/"
        },
        "id": "vgS6QHVx4Wlm",
        "outputId": "d3c5600f-0e70-4557-f9b3-3943b515d0ac"
      },
      "outputs": [
        {
          "output_type": "stream",
          "name": "stdout",
          "text": [
            "Guess a between 1 and 10: 5\n",
            "Your guess of 5 is Too low\n",
            "Time up, You didn't guess in time!!!\n",
            "Guess a between 1 and 10: 2\n",
            "Your guess of 2 is Too low\n",
            "Time up, You didn't guess in time!!!\n",
            "Guess a between 1 and 10: 4\n",
            "Your guess of 4 is Too low\n",
            "Time up, You didn't guess in time!!!\n"
          ]
        }
      ],
      "source": [
        "import random\n",
        "\n",
        "def guessing_game():\n",
        "    number = random.randint(0, 10)\n",
        "\n",
        "    num_of_guesses = 3\n",
        "\n",
        "    while num_of_guesses > 0:\n",
        "\n",
        "        guess = int(input(\"Guess a between 1 and 10: \"))\n",
        "\n",
        "        if guess > number:\n",
        "            print(f\"You guessed {guess} and it is Too high\")\n",
        "\n",
        "        elif guess < number:\n",
        "            print(f\"Your guess of {guess} is Too low\")\n",
        "\n",
        "        else:\n",
        "            print(f\"You guessed {guess} and it is Just right\")\n",
        "            break\n",
        "        num_of_guesses -= 1\n",
        "\n",
        "        print(\"Time up, You didn't guess in time!!!\")\n",
        "\n",
        "guessing_game()"
      ]
    }
  ]
}